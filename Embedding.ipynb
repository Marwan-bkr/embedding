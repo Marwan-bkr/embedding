{
 "cells": [
  {
   "cell_type": "code",
   "execution_count": 2,
   "id": "4d3907c6-b9a6-47b5-abe9-c40b42d8043b",
   "metadata": {},
   "outputs": [],
   "source": [
    "import numpy as np\n",
    "import pandas as pd\n",
    "import matplotlib.pyplot as plt"
   ]
  },
  {
   "cell_type": "markdown",
   "id": "2a04fd84-80b9-4255-ade2-30b6d884ca39",
   "metadata": {},
   "source": [
    "Download pretrained set for instance here : https://nlp.stanford.edu/projects/glove/"
   ]
  },
  {
   "cell_type": "code",
   "execution_count": 5,
   "id": "ef59bd48-ab78-445c-b7a2-532a2cf6afdf",
   "metadata": {},
   "outputs": [],
   "source": [
    "filepath = \"glove.840B.300d.txt\""
   ]
  },
  {
   "cell_type": "code",
   "execution_count": 7,
   "id": "1cf556cc-acf3-4f1e-8b82-744308528ab9",
   "metadata": {},
   "outputs": [],
   "source": [
    "df = pd.read_csv(filepath, skiprows=1, header=None, sep=\" \", index_col=0, quoting=3, nrows=100000)\n",
    "\n",
    "def cosdist(v1, v2):\n",
    "    return np.dot(v1, v2)/(np.linalg.norm(v1) * np.linalg.norm(v2))\n",
    "\n",
    "def distance(w1, w2):\n",
    "    v1 = df.loc[w1]\n",
    "    v2 = df.loc[w2]\n",
    "    return cosdist(v1, v2)\n",
    "\n",
    "def nearneigh(v_w, K = df.shape[0]):\n",
    "    norm_w = np.linalg.norm(v_w)\n",
    "    dist = np.zeros(K)\n",
    "    for i in range(K):\n",
    "        v_i = df.iloc[i]\n",
    "        dist[i] = np.dot(v_w, v_i)/(norm_w * np.linalg.norm(v_i))\n",
    "    return df.index[np.argsort(dist)[::-1]]\n",
    "\n",
    "def nearneigh_w(w, K = df.shape[0]):\n",
    "    if w not in df.index:\n",
    "        return \"N/A\"\n",
    "    dist = np.zeros(K)\n",
    "    v_w = df.loc[w]\n",
    "    norm_w = np.linalg.norm(v_w)\n",
    "    for i in range(K):\n",
    "        v_i = df.iloc[i]\n",
    "        dist[i] = np.dot(v_w, v_i)/(norm_w * np.linalg.norm(v_i))\n",
    "    return df.index[np.argsort(dist)[::-1]]"
   ]
  },
  {
   "cell_type": "code",
   "execution_count": 8,
   "id": "4d5c297a-57ed-4480-b650-743ef288f059",
   "metadata": {},
   "outputs": [
    {
     "data": {
      "text/plain": [
       "(1     -0.150670\n",
       " 2     -0.024468\n",
       " 3     -0.233680\n",
       " 4     -0.233780\n",
       " 5     -0.183820\n",
       "          ...   \n",
       " 296    0.815060\n",
       " 297    0.038524\n",
       " 298    0.460040\n",
       " 299    0.171870\n",
       " 300   -0.298040\n",
       " Name: cat, Length: 300, dtype: float64,\n",
       " 1     -0.401760\n",
       " 2      0.370570\n",
       " 3      0.021281\n",
       " 4     -0.341250\n",
       " 5      0.049538\n",
       "          ...   \n",
       " 296    0.547890\n",
       " 297    0.311940\n",
       " 298    0.246930\n",
       " 299    0.299290\n",
       " 300   -0.074861\n",
       " Name: dog, Length: 300, dtype: float64,\n",
       " 1      0.534290\n",
       " 2      0.188830\n",
       " 3      0.518700\n",
       " 4     -0.710420\n",
       " 5      0.655380\n",
       "          ...   \n",
       " 296    0.052528\n",
       " 297   -0.217520\n",
       " 298    0.052445\n",
       " 299   -0.113830\n",
       " 300   -0.525090\n",
       " Name: bobcat, Length: 300, dtype: float64,\n",
       " 1     -0.582140\n",
       " 2     -0.375310\n",
       " 3      0.093002\n",
       " 4     -0.056019\n",
       " 5     -0.206460\n",
       "          ...   \n",
       " 296    0.509450\n",
       " 297   -0.093206\n",
       " 298    0.283850\n",
       " 299   -0.086723\n",
       " 300   -0.329420\n",
       " Name: wolf, Length: 300, dtype: float64)"
      ]
     },
     "execution_count": 8,
     "metadata": {},
     "output_type": "execute_result"
    }
   ],
   "source": [
    "df.loc['cat'], df.loc['dog'], df.loc['bobcat'], df.loc['wolf']"
   ]
  },
  {
   "cell_type": "code",
   "execution_count": null,
   "id": "1a4df372-21c2-43fc-b777-40901b85026d",
   "metadata": {},
   "outputs": [],
   "source": []
  }
 ],
 "metadata": {
  "kernelspec": {
   "display_name": "Python [conda env:base] *",
   "language": "python",
   "name": "conda-base-py"
  },
  "language_info": {
   "codemirror_mode": {
    "name": "ipython",
    "version": 3
   },
   "file_extension": ".py",
   "mimetype": "text/x-python",
   "name": "python",
   "nbconvert_exporter": "python",
   "pygments_lexer": "ipython3",
   "version": "3.12.7"
  }
 },
 "nbformat": 4,
 "nbformat_minor": 5
}
